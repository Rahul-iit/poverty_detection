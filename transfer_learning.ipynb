{
 "cells": [
  {
   "cell_type": "code",
   "execution_count": 0,
   "metadata": {
    "colab": {},
    "colab_type": "code",
    "id": "qhefvhnB9L0d"
   },
   "outputs": [],
   "source": [
    "#Importing all the libraries\n",
    "import numpy as np\n",
    "import matplotlib.pyplot as plt\n",
    "%matplotlib inline\n",
    "import keras\n",
    "import os\n",
    "from google.colab import drive\n",
    "import cv2\n",
    "import random\n",
    "import os\n",
    "from keras.models import Sequential\n",
    "from keras.layers import Conv2D, MaxPooling2D\n",
    "from keras.layers import Activation, Dropout, Flatten, Dense\n",
    "from keras.preprocessing.image import ImageDataGenerator, array_to_img, img_to_array, load_img\n",
    "import warnings\n",
    "warnings.filterwarnings(\"ignore\")\n"
   ]
  },
  {
   "cell_type": "code",
   "execution_count": 6,
   "metadata": {
    "colab": {
     "base_uri": "https://localhost:8080/",
     "height": 122
    },
    "colab_type": "code",
    "id": "zcPSqHHwB_R2",
    "outputId": "99aba9a0-beb3-4dd0-fb0b-c79b0c5219b7"
   },
   "outputs": [
    {
     "name": "stdout",
     "output_type": "stream",
     "text": [
      "Go to this URL in a browser: https://accounts.google.com/o/oauth2/auth?client_id=947318989803-6bn6qk8qdgf4n4g3pfee6491hc0brc4i.apps.googleusercontent.com&redirect_uri=urn%3aietf%3awg%3aoauth%3a2.0%3aoob&response_type=code&scope=email%20https%3a%2f%2fwww.googleapis.com%2fauth%2fdocs.test%20https%3a%2f%2fwww.googleapis.com%2fauth%2fdrive%20https%3a%2f%2fwww.googleapis.com%2fauth%2fdrive.photos.readonly%20https%3a%2f%2fwww.googleapis.com%2fauth%2fpeopleapi.readonly\n",
      "\n",
      "Enter your authorization code:\n",
      "··········\n",
      "Mounted at /content/gdrive\n"
     ]
    }
   ],
   "source": [
    "#Using google colab\n",
    "drive.mount('/content/gdrive')"
   ]
  },
  {
   "cell_type": "code",
   "execution_count": 0,
   "metadata": {
    "colab": {},
    "colab_type": "code",
    "id": "p4felQ-9624O"
   },
   "outputs": [],
   "source": [
    "# Using transfer learning on pre trained model from imagenet\n",
    "from keras.applications import InceptionResNetV2\n",
    "conv_base = InceptionResNetV2(weights='imagenet', include_top=False, input_shape=(150,150,3))"
   ]
  },
  {
   "cell_type": "code",
   "execution_count": 7,
   "metadata": {
    "colab": {
     "base_uri": "https://localhost:8080/",
     "height": 697
    },
    "colab_type": "code",
    "id": "K05tCNKaCNJm",
    "outputId": "d18c6f17-e12a-470f-d3ed-f4bc7d322d03"
   },
   "outputs": [
    {
     "name": "stdout",
     "output_type": "stream",
     "text": [
      "Status B/20181125_122054.jpg\n",
      "Status B/20181125_134002.jpg\n",
      "Status A/20181125_133805.jpg\n",
      "Status A/20181125_134504.jpg\n",
      "Status A/20181125_123830.jpg\n",
      "Status A/20181125_130936_001.jpg\n",
      "Status A/20181125_131215.jpg\n",
      "Status A/20181125_123528.jpg\n",
      "Status B/20181125_124719.jpg\n",
      "Status A/20181125_131008_001.jpg\n",
      "Status B/20181125_121029.jpg\n",
      "Status B/20181125_132209.jpg\n",
      "Status A/20181125_133056.jpg\n",
      "Status A/20181125_130909.jpg\n",
      "Status B/20181125_122306.jpg\n",
      "Status B/20181125_134418.jpg\n",
      "Status A/20181125_133527.jpg\n",
      "Status A/20181125_125214.jpg\n",
      "Status B/20181125_132834.jpg\n",
      "Status A/20181125_132008.jpg\n",
      "Status B/No.1.jpg\n",
      "Status B/20181125_132115.jpg\n",
      "Status A/20181125_124946.jpg\n",
      "Status B/20181125_121808.jpg\n",
      "Status B/20181125_120749.jpg\n",
      "Status A/20181125_123117.jpg\n",
      "Status B/20181125_120059.jpg\n",
      "Status B/20181125_134228.jpg\n",
      "Status B/20181125_120846.jpg\n",
      "Status A/20181125_131800.jpg\n",
      "Status B/20181125_132701.jpg\n",
      "Status A/20181125_133341.jpg\n",
      "Status A/20181125_123430.jpg\n",
      "Status A/20181125_122831.jpg\n",
      "Status B/20181125_121647.jpg\n",
      "Status B/20181125_120442.jpg\n",
      "Status B/20181125_132747.jpg\n",
      "Status B/20181125_120227.jpg\n",
      "Status A/20181125_124319.jpg\n",
      "Status B/20181125_132244.jpg\n"
     ]
    }
   ],
   "source": [
    "DIR='/content/gdrive/My Drive/Household Image/'   #directory in my drive\n",
    "X=[] #train data\n",
    "Y=[] #Its label\n",
    "files=[i+str('/')+img_dir for i in os.listdir(DIR) for img_dir in os.listdir(DIR+f'{i}')]\n",
    "random.shuffle(files)       #shuffling the data\n",
    "for i in files:\n",
    "    print(i)\n",
    "    img = cv2.imread(DIR+i,1)\n",
    "    img= cv2.resize(img, (150,150))   #resizing optimum size\n",
    "    img = cv2.cvtColor(img,cv2.COLOR_BGR2RGB)\n",
    "    X.append(img)\n",
    "    if 'Status A' in i:\n",
    "        Y.append(1)\n",
    "    else:\n",
    "        Y.append(0)\n",
    "\n",
    "x=np.array(X)    #all the image data after pre processing\n",
    "y=np.array(Y)     # labels for each house"
   ]
  },
  {
   "cell_type": "code",
   "execution_count": 0,
   "metadata": {
    "colab": {},
    "colab_type": "code",
    "id": "fe53AAeQCmkq"
   },
   "outputs": [],
   "source": [
    "# VAlidation datasets obtain by randomizing the original data\n",
    "X_val=[]\n",
    "Y_val=[]\n",
    "files=[i+str('/')+img_dir for i in os.listdir(DIR) for img_dir in os.listdir(DIR+f'{i}')]\n",
    "random.shuffle(files)\n",
    "for i in files:\n",
    "    print(i)\n",
    "    img = cv2.imread(DIR+i,1)\n",
    "    img= cv2.resize(img, (150,150))\n",
    "    img = cv2.cvtColor(img,cv2.COLOR_BGR2RGB)\n",
    "    X_val.append(img)\n",
    "    if 'Status A' in i:\n",
    "        Y_val.append(1)\n",
    "    else:\n",
    "        Y_val.append(0)\n",
    "\n",
    "x_val=np.array(X_val)\n",
    "y_val=np.array(Y_val)"
   ]
  },
  {
   "cell_type": "code",
   "execution_count": 0,
   "metadata": {
    "colab": {},
    "colab_type": "code",
    "id": "yXKDIlSgCyTB"
   },
   "outputs": [],
   "source": [
    "#rescaling the data\n",
    "train_datagen = ImageDataGenerator(\n",
    "        rescale=1./255,\n",
    "        rotation_range=40,\n",
    "        shear_range=0.2,\n",
    "        zoom_range=0.2,\n",
    "        horizontal_flip=True)\n",
    "\n",
    "train_generator = train_datagen.flow(x,y)"
   ]
  },
  {
   "cell_type": "code",
   "execution_count": 0,
   "metadata": {
    "colab": {},
    "colab_type": "code",
    "id": "UHk0EaXzDlyQ"
   },
   "outputs": [],
   "source": [
    "#rescaling the validation data\n",
    "val_datagen = ImageDataGenerator(rescale=1./255)"
   ]
  },
  {
   "cell_type": "code",
   "execution_count": 0,
   "metadata": {
    "colab": {},
    "colab_type": "code",
    "id": "SP_LtMIpGPoZ"
   },
   "outputs": [],
   "source": [
    "val_generator = val_datagen.flow(x_val, y_val,)"
   ]
  },
  {
   "cell_type": "code",
   "execution_count": 33,
   "metadata": {
    "colab": {
     "base_uri": "https://localhost:8080/",
     "height": 34
    },
    "colab_type": "code",
    "id": "7xjNrLKZMuZk",
    "outputId": "4115c0b2-f11f-4a8d-89aa-c55caea3013b"
   },
   "outputs": [
    {
     "name": "stdout",
     "output_type": "stream",
     "text": [
      "Number of trainable weights after freezing the conv base: 4\n"
     ]
    }
   ],
   "source": [
    "# training on pre trained model only the last fully connected layer\n",
    "model = Sequential()\n",
    "model.add(conv_base)\n",
    "model.add(Flatten())\n",
    "model.add(Dense(256, activation='relu'))\n",
    "model.add(Dropout(.5))              #dropout since less data leads to overfitting \n",
    "model.add(Dense(1, activation='sigmoid'))\n",
    "\n",
    "\n",
    "conv_base.trainable = False\n",
    "print('Number of trainable weights after freezing the conv base:', len(model.trainable_weights))\n",
    "\n",
    "#Compiling the model\n",
    "model.compile(loss='binary_crossentropy', optimizer='adam', metrics=['acc'])"
   ]
  },
  {
   "cell_type": "code",
   "execution_count": 34,
   "metadata": {
    "colab": {
     "base_uri": "https://localhost:8080/",
     "height": 887
    },
    "colab_type": "code",
    "id": "nBCWeHCENkof",
    "outputId": "10f2e621-3c58-43d1-eb8a-65e5e5d1a9e8"
   },
   "outputs": [
    {
     "name": "stdout",
     "output_type": "stream",
     "text": [
      "Epoch 1/25\n",
      "40/40 [==============================] - 37s 923ms/step - loss: 1.3026 - acc: 0.7072 - val_loss: 1.2009 - val_acc: 0.7500\n",
      "Epoch 2/25\n",
      "40/40 [==============================] - 8s 202ms/step - loss: 0.2871 - acc: 0.8954 - val_loss: 1.8210 - val_acc: 0.7000\n",
      "Epoch 3/25\n",
      "40/40 [==============================] - 8s 199ms/step - loss: 0.2419 - acc: 0.9191 - val_loss: 0.6031 - val_acc: 0.8750\n",
      "Epoch 4/25\n",
      "40/40 [==============================] - 8s 200ms/step - loss: 0.3366 - acc: 0.8897 - val_loss: 0.7566 - val_acc: 0.8000\n",
      "Epoch 5/25\n",
      "40/40 [==============================] - 8s 196ms/step - loss: 0.1435 - acc: 0.9456 - val_loss: 1.1299 - val_acc: 0.8000\n",
      "Epoch 6/25\n",
      "40/40 [==============================] - 8s 204ms/step - loss: 0.1947 - acc: 0.9364 - val_loss: 0.9172 - val_acc: 0.8000\n",
      "Epoch 7/25\n",
      "40/40 [==============================] - 8s 201ms/step - loss: 0.2722 - acc: 0.9100 - val_loss: 1.1314 - val_acc: 0.7000\n",
      "Epoch 8/25\n",
      "40/40 [==============================] - 8s 196ms/step - loss: 0.2742 - acc: 0.9069 - val_loss: 0.5754 - val_acc: 0.8500\n",
      "Epoch 9/25\n",
      "40/40 [==============================] - 8s 201ms/step - loss: 0.1172 - acc: 0.9542 - val_loss: 2.4531 - val_acc: 0.6250\n",
      "Epoch 10/25\n",
      "40/40 [==============================] - 8s 201ms/step - loss: 0.1343 - acc: 0.9443 - val_loss: 0.6519 - val_acc: 0.8500\n",
      "Epoch 11/25\n",
      "40/40 [==============================] - 8s 204ms/step - loss: 0.0972 - acc: 0.9558 - val_loss: 0.7845 - val_acc: 0.8750\n",
      "Epoch 12/25\n",
      "40/40 [==============================] - 8s 193ms/step - loss: 0.0530 - acc: 0.9782 - val_loss: 2.4586 - val_acc: 0.7250\n",
      "Epoch 13/25\n",
      "40/40 [==============================] - 8s 201ms/step - loss: 0.1236 - acc: 0.9503 - val_loss: 2.3769 - val_acc: 0.6750\n",
      "Epoch 14/25\n",
      "40/40 [==============================] - 8s 204ms/step - loss: 0.1636 - acc: 0.9424 - val_loss: 1.1954 - val_acc: 0.7500\n",
      "Epoch 15/25\n",
      "40/40 [==============================] - 8s 198ms/step - loss: 0.0939 - acc: 0.9580 - val_loss: 0.8545 - val_acc: 0.8500\n",
      "Epoch 16/25\n",
      "40/40 [==============================] - 8s 201ms/step - loss: 0.0699 - acc: 0.9704 - val_loss: 1.2552 - val_acc: 0.7500\n",
      "Epoch 17/25\n",
      "40/40 [==============================] - 8s 199ms/step - loss: 0.0519 - acc: 0.9830 - val_loss: 1.1038 - val_acc: 0.8250\n",
      "Epoch 18/25\n",
      "40/40 [==============================] - 8s 203ms/step - loss: 0.1055 - acc: 0.9611 - val_loss: 1.1562 - val_acc: 0.8000\n",
      "Epoch 19/25\n",
      "40/40 [==============================] - 8s 201ms/step - loss: 0.1019 - acc: 0.9760 - val_loss: 0.7143 - val_acc: 0.8500\n",
      "Epoch 20/25\n",
      "40/40 [==============================] - 8s 199ms/step - loss: 0.0989 - acc: 0.9735 - val_loss: 1.7142 - val_acc: 0.7000\n",
      "Epoch 21/25\n",
      "40/40 [==============================] - 8s 211ms/step - loss: 0.1007 - acc: 0.9736 - val_loss: 1.1583 - val_acc: 0.7500\n",
      "Epoch 22/25\n",
      "40/40 [==============================] - 8s 199ms/step - loss: 0.1074 - acc: 0.9635 - val_loss: 1.0653 - val_acc: 0.8000\n",
      "Epoch 23/25\n",
      "40/40 [==============================] - 8s 196ms/step - loss: 0.1285 - acc: 0.9567 - val_loss: 1.3917 - val_acc: 0.7250\n",
      "Epoch 24/25\n",
      "40/40 [==============================] - 8s 197ms/step - loss: 0.0502 - acc: 0.9836 - val_loss: 3.4553 - val_acc: 0.6000\n",
      "Epoch 25/25\n",
      "40/40 [==============================] - 8s 204ms/step - loss: 0.0268 - acc: 0.9900 - val_loss: 1.1688 - val_acc: 0.8250\n"
     ]
    }
   ],
   "source": [
    "history = model.fit_generator(train_generator,\n",
    "                              steps_per_epoch=40,\n",
    "                              epochs=25,\n",
    "                              validation_data=val_generator,\n",
    "                              validation_steps=40)"
   ]
  },
  {
   "cell_type": "code",
   "execution_count": 35,
   "metadata": {
    "colab": {
     "base_uri": "https://localhost:8080/",
     "height": 545
    },
    "colab_type": "code",
    "id": "IH7vhgvBODPm",
    "outputId": "fe0ad49d-141a-4621-bb47-74fe2e20a19f"
   },
   "outputs": [
    {
     "data": {
      "image/png": "[encoded data removed]",
      "text/plain": [
       "<Figure size 432x288 with 1 Axes>"
      ]
     },
     "metadata": {
      "tags": []
     },
     "output_type": "display_data"
    },
    {
     "data": {
      "image/png": "[encoded data removed]",
      "text/plain": [
       "<Figure size 432x288 with 1 Axes>"
      ]
     },
     "metadata": {
      "tags": []
     },
     "output_type": "display_data"
    }
   ],
   "source": [
    "#get the details form the history object\n",
    "acc = history.history['acc']\n",
    "val_acc = history.history['val_acc']\n",
    "loss = history.history['loss']\n",
    "val_loss = history.history['val_loss']\n",
    "\n",
    "epochs = range(1, len(acc) + 1)\n",
    "\n",
    "#Train and validation accuracy\n",
    "plt.plot(epochs, acc, 'b', label='Training accurarcy')\n",
    "plt.plot(epochs, val_acc, 'r', label='Validation accurarcy')\n",
    "plt.title('Training and Validation accurarcy')\n",
    "plt.legend()\n",
    "\n",
    "plt.figure()\n",
    "#Train and validation loss\n",
    "plt.plot(epochs, loss, 'b', label='Training loss')\n",
    "plt.plot(epochs, val_loss, 'r', label='Validation loss')\n",
    "plt.title('Training and Validation loss')\n",
    "plt.legend()\n",
    "\n",
    "plt.show()\n",
    "\n",
    "\n",
    "\n",
    "\n"
   ]
  }
 ],
 "metadata": {
  "accelerator": "GPU",
  "colab": {
   "name": "transfer learning.ipynb",
   "provenance": []
  },
  "kernelspec": {
   "display_name": "Python 3",
   "language": "python",
   "name": "python3"
  },
  "language_info": {
   "codemirror_mode": {
    "name": "ipython",
    "version": 3
   },
   "file_extension": ".py",
   "mimetype": "text/x-python",
   "name": "python",
   "nbconvert_exporter": "python",
   "pygments_lexer": "ipython3",
   "version": "3.7.4"
  }
 },
 "nbformat": 4,
 "nbformat_minor": 1
}
